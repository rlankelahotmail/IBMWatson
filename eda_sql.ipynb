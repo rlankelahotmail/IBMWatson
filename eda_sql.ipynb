{
    "cells": [
        {
            "metadata": {},
            "cell_type": "markdown",
            "source": "<center>\n    <img src=\"https://gitlab.com/ibm/skills-network/courses/placeholder101/-/raw/master/labs/module%201/images/IDSNlogo.png\"  width=\"300\" alt=\"cognitiveclass.ai logo\"  />\n</center>\n\n<h1 align=center><font size = 5>Assignment: SQL Notebook for Peer Assignment</font></h1>\n\nEstimated time needed: **60** minutes.\n\n## Introduction\n\nUsing this Python notebook you will:\n\n1.  Understand the Spacex DataSet\n2.  Load the dataset  into the corresponding table in a Db2 database\n3.  Execute SQL queries to answer assignment questions\n"
        },
        {
            "metadata": {},
            "cell_type": "markdown",
            "source": "## Overview of the DataSet\n\nSpaceX has gained worldwide attention for a series of historic milestones.\n\nIt is the only private company ever to return a spacecraft from low-earth orbit, which it first accomplished in December 2010.\nSpaceX advertises Falcon 9 rocket launches on its website with a cost of 62 million dollars wheras other providers cost upward of 165 million dollars each, much of the savings is because Space X can reuse the first stage.\n\nTherefore if we can determine if the first stage will land, we can determine the cost of a launch.\n\nThis information can be used if an alternate company wants to bid against SpaceX for a rocket launch.\n\nThis dataset includes a record for each payload carried during a SpaceX mission into outer space.\n"
        },
        {
            "metadata": {},
            "cell_type": "markdown",
            "source": "### Download the datasets\n\nThis assignment requires you to load the spacex dataset.\n\nIn many cases the dataset to be analyzed is available as a .CSV (comma separated values) file, perhaps on the internet. Click on the link below to download and save the dataset (.CSV file):\n\n<a href=\"https://cf-courses-data.s3.us.cloud-object-storage.appdomain.cloud/IBM-DS0321EN-SkillsNetwork/labs/module_2/data/Spacex.csv?utm_medium=Exinfluencer&utm_source=Exinfluencer&utm_content=000026UJ&utm_term=10006555&utm_id=NA-SkillsNetwork-Channel-SkillsNetworkCoursesIBMDS0321ENSkillsNetwork26802033-2021-01-01\" target=\"_blank\">Spacex DataSet</a>\n"
        },
        {
            "metadata": {},
            "cell_type": "markdown",
            "source": "### Store the dataset in database table\n\n**it is highly recommended to manually load the table using the database console LOAD tool in DB2**.\n\n<img src = \"https://cf-courses-data.s3.us.cloud-object-storage.appdomain.cloud/IBM-DS0321EN-SkillsNetwork/labs/module_2/images/spacexload.png\">\n\nNow open the Db2 console, open the LOAD tool, Select / Drag the .CSV file for the  dataset, Next create a New Table, and then follow the steps on-screen instructions to load the data. Name the new table as follows:\n\n**SPACEXDATASET**\n\n**Follow these steps while using old DB2 UI which is having Open Console Screen**\n\n**Note:While loading Spacex dataset, ensure that detect datatypes is disabled. Later click on the pencil icon(edit option).**\n\n1.  Change the Date Format by manually typing DD-MM-YYYY and timestamp format as DD-MM-YYYY HH\\:MM:SS.\n\n    Here you should place the cursor at Date field and manually type as DD-MM-YYYY.\n\n2.  Change the PAYLOAD_MASS\\_\\_KG\\_  datatype  to INTEGER.\n\n<img src = \"https://cf-courses-data.s3.us.cloud-object-storage.appdomain.cloud/IBM-DS0321EN-SkillsNetwork/labs/module_2/images/spacexload2.png\">\n"
        },
        {
            "metadata": {},
            "cell_type": "markdown",
            "source": "**Changes to be considered when having DB2 instance with the new UI having Go to UI screen**\n\n*   Refer to this insruction in this <a href=\"https://cf-courses-data.s3.us.cloud-object-storage.appdomain.cloud/IBMDeveloperSkillsNetwork-DB0201EN-SkillsNetwork/labs/Labs_Coursera_V5/labs/Lab%20-%20Sign%20up%20for%20IBM%20Cloud%20-%20Create%20Db2%20service%20instance%20-%20Get%20started%20with%20the%20Db2%20console/instructional-labs.md.html?utm_medium=Exinfluencer&utm_source=Exinfluencer&utm_content=000026UJ&utm_term=10006555&utm_id=NA-SkillsNetwork-Channel-SkillsNetworkCoursesIBMDS0321ENSkillsNetwork26802033-2021-01-01\">link</a> for viewing  the new  Go to UI screen.\n\n*   Later click on **Data link(below SQL)**  in the Go to UI screen  and click on **Load Data** tab.\n\n*   Later browse for the downloaded spacex file.\n\n<img src=\"https://cf-courses-data.s3.us.cloud-object-storage.appdomain.cloud/IBM-DS0321EN-SkillsNetwork/labs/module_2/images/browsefile.png\" width=\"800\"/>\n\n*   Once done select the schema andload the file.\n\n <img src=\"https://cf-courses-data.s3.us.cloud-object-storage.appdomain.cloud/IBM-DS0321EN-SkillsNetwork/labs/module_2/images/spacexload3.png\" width=\"800\"/>\n"
        },
        {
            "metadata": {},
            "cell_type": "code",
            "source": "!pip install sqlalchemy==1.3.9\n!pip install ibm_db_sa\n!pip install ipython-sql\n\n! pip install  ibm_db\nimport ibm_db\nimport ibm_db_dbi\nimport pandas as pd",
            "execution_count": 1,
            "outputs": [
                {
                    "output_type": "stream",
                    "text": "Requirement already satisfied: sqlalchemy==1.3.9 in /opt/conda/envs/Python-3.8-main/lib/python3.8/site-packages (1.3.9)\nRequirement already satisfied: ibm_db_sa in /opt/conda/envs/Python-3.8-main/lib/python3.8/site-packages (0.3.7)\nRequirement already satisfied: sqlalchemy>=0.7.3 in /opt/conda/envs/Python-3.8-main/lib/python3.8/site-packages (from ibm_db_sa) (1.3.9)\nRequirement already satisfied: ibm-db>=2.0.0 in /opt/conda/envs/Python-3.8-main/lib/python3.8/site-packages (from ibm_db_sa) (3.0.4)\nRequirement already satisfied: ipython-sql in /opt/conda/envs/Python-3.8-main/lib/python3.8/site-packages (0.4.0)\nRequirement already satisfied: ipython>=1.0 in /opt/conda/envs/Python-3.8-main/lib/python3.8/site-packages (from ipython-sql) (7.22.0)\nRequirement already satisfied: sqlparse in /opt/conda/envs/Python-3.8-main/lib/python3.8/site-packages (from ipython-sql) (0.4.2)\nRequirement already satisfied: ipython-genutils>=0.1.0 in /opt/conda/envs/Python-3.8-main/lib/python3.8/site-packages (from ipython-sql) (0.2.0)\nRequirement already satisfied: sqlalchemy>=0.6.7 in /opt/conda/envs/Python-3.8-main/lib/python3.8/site-packages (from ipython-sql) (1.3.9)\nRequirement already satisfied: prettytable<1 in /opt/conda/envs/Python-3.8-main/lib/python3.8/site-packages (from ipython-sql) (0.7.2)\nRequirement already satisfied: six in /opt/conda/envs/Python-3.8-main/lib/python3.8/site-packages (from ipython-sql) (1.15.0)\nRequirement already satisfied: setuptools>=18.5 in /opt/conda/envs/Python-3.8-main/lib/python3.8/site-packages (from ipython>=1.0->ipython-sql) (52.0.0.post20211006)\nRequirement already satisfied: backcall in /opt/conda/envs/Python-3.8-main/lib/python3.8/site-packages (from ipython>=1.0->ipython-sql) (0.2.0)\nRequirement already satisfied: pickleshare in /opt/conda/envs/Python-3.8-main/lib/python3.8/site-packages (from ipython>=1.0->ipython-sql) (0.7.5)\nRequirement already satisfied: jedi>=0.16 in /opt/conda/envs/Python-3.8-main/lib/python3.8/site-packages (from ipython>=1.0->ipython-sql) (0.17.2)\nRequirement already satisfied: pygments in /opt/conda/envs/Python-3.8-main/lib/python3.8/site-packages (from ipython>=1.0->ipython-sql) (2.9.0)\nRequirement already satisfied: traitlets>=4.2 in /opt/conda/envs/Python-3.8-main/lib/python3.8/site-packages (from ipython>=1.0->ipython-sql) (5.0.5)\nRequirement already satisfied: pexpect>4.3 in /opt/conda/envs/Python-3.8-main/lib/python3.8/site-packages (from ipython>=1.0->ipython-sql) (4.8.0)\nRequirement already satisfied: decorator in /opt/conda/envs/Python-3.8-main/lib/python3.8/site-packages (from ipython>=1.0->ipython-sql) (5.0.9)\nRequirement already satisfied: prompt-toolkit!=3.0.0,!=3.0.1,<3.1.0,>=2.0.0 in /opt/conda/envs/Python-3.8-main/lib/python3.8/site-packages (from ipython>=1.0->ipython-sql) (3.0.17)\nRequirement already satisfied: parso<0.8.0,>=0.7.0 in /opt/conda/envs/Python-3.8-main/lib/python3.8/site-packages (from jedi>=0.16->ipython>=1.0->ipython-sql) (0.7.0)\nRequirement already satisfied: ptyprocess>=0.5 in /opt/conda/envs/Python-3.8-main/lib/python3.8/site-packages (from pexpect>4.3->ipython>=1.0->ipython-sql) (0.7.0)\nRequirement already satisfied: wcwidth in /opt/conda/envs/Python-3.8-main/lib/python3.8/site-packages (from prompt-toolkit!=3.0.0,!=3.0.1,<3.1.0,>=2.0.0->ipython>=1.0->ipython-sql) (0.2.5)\nRequirement already satisfied: ibm_db in /opt/conda/envs/Python-3.8-main/lib/python3.8/site-packages (3.0.4)\n",
                    "name": "stdout"
                }
            ]
        },
        {
            "metadata": {},
            "cell_type": "markdown",
            "source": "### Connect to the database\n\nLet us first load the SQL extension and establish a connection with the database\n"
        },
        {
            "metadata": {},
            "cell_type": "code",
            "source": "%load_ext sql",
            "execution_count": 2,
            "outputs": []
        },
        {
            "metadata": {},
            "cell_type": "markdown",
            "source": "**DB2 magic in case of old UI service credentials.**\n\nIn the next cell enter your db2 connection string. Recall you created Service Credentials for your Db2 instance before. From the **uri** field of your Db2 service credentials copy everything after db2:// (except the double quote at the end) and paste it in the cell below after ibm_db_sa://\n\n<img src =\"https://cf-courses-data.s3.us.cloud-object-storage.appdomain.cloud/IBMDeveloperSkillsNetwork-DB0201EN-SkillsNetwork/labs/FinalModule_edX/images/URI.jpg\">\n\nin the following format\n\n**%sql ibm_db_sa://my-username:my-password\\@my-hostname:my-port/my-db-name**\n\n**DB2 magic in case of new UI service credentials.**\n\n<img src =\"https://cf-courses-data.s3.us.cloud-object-storage.appdomain.cloud/IBM-DS0321EN-SkillsNetwork/labs/module_2/images/servicecredentials.png\" width=600>  \n\n*   Use the following format.\n\n*   Add security=SSL at the end\n\n**%sql ibm_db_sa://my-username:my-password\\@my-hostname:my-port/my-db-name?security=SSL**\n"
        },
        {
            "metadata": {},
            "cell_type": "code",
            "source": "",
            "execution_count": null,
            "outputs": []
        },
        {
            "metadata": {},
            "cell_type": "code",
            "source": "",
            "execution_count": null,
            "outputs": []
        },
        {
            "metadata": {},
            "cell_type": "code",
            "source": "%sql ibm_db_sa://ypx40671:8vEjnPY1ofxogZvk@54a2f15b-5c0f-46df-8954-7e38e612c2bd.c1ogj3sd0tgtu0lqde00.databases.appdomain.cloud:32733/bludb?authSource=admin&replicaSet=replset?security=SSL",
            "execution_count": null,
            "outputs": []
        },
        {
            "metadata": {},
            "cell_type": "code",
            "source": "def get_db_connection():    \n    dsn_driver = \"{IBM DB2 ODBC DRIVER}\"\n    dsn_database =\"BLUDB\"\n    dsn_hostname =\"54a2f15b-5c0f-46df-8954-7e38e612c2bd.c1ogj3sd0tgtu0lqde00.databases.appdomain.cloud\"\n    dsn_port= \"32733\"\n    dsn_protocol = \"TCPIP\"\n    dsn_uid = \"ypx40671\"\n    dsn_pwd =  \"8vEjnPY1ofxogZvk\"\n    dsn_security = \"SSL\" \n    dsn = (\n        \"DRIVER={0};\"\n        \"DATABASE={1};\"\n        \"HOSTNAME={2};\"\n        \"PORT={3};\"\n        \"PROTOCOL={4};\"\n        \"UID={5};\"\n        \"PWD={6};\"\n        \"SECURITY={7};\").format(dsn_driver, dsn_database, dsn_hostname, dsn_port, dsn_protocol, dsn_uid, dsn_pwd,dsn_security  )\n    try:\n        conn = ibm_db.connect(dsn, \"\", \"\")\n        print(\"Connected!\")\n        return conn\n    except Exception:\n        print(\"\\nERROR: Unable to connect to the \\'\" + dsn_database + \"\\' server.\")\n        print(\"error: \", ibm_db.conn_errormsg())\n        exit(-1)",
            "execution_count": 3,
            "outputs": []
        },
        {
            "metadata": {},
            "cell_type": "markdown",
            "source": "## Tasks\n\nNow write and execute SQL queries to solve the assignment tasks.\n\n### Task 1\n\n##### Display the names of the unique launch sites  in the space mission\n"
        },
        {
            "metadata": {},
            "cell_type": "code",
            "source": "pconn=ibm_db_dbi.Connection(get_db_connection())\nselect_query = 'select * from spacextbl'\ndf=pd.read_sql(select_query,pconn)\ndf",
            "execution_count": 4,
            "outputs": [
                {
                    "output_type": "stream",
                    "text": "Connected!\n",
                    "name": "stdout"
                },
                {
                    "output_type": "execute_result",
                    "execution_count": 4,
                    "data": {
                        "text/plain": "           DATE TIME__UTC_ BOOSTER_VERSION   LAUNCH_SITE  \\\n0    2010-06-04   18:45:00  F9 v1.0  B0003   CCAFS LC-40   \n1    2010-12-08   15:43:00  F9 v1.0  B0004   CCAFS LC-40   \n2    2012-05-22   07:44:00  F9 v1.0  B0005   CCAFS LC-40   \n3    2012-10-08   00:35:00  F9 v1.0  B0006   CCAFS LC-40   \n4    2013-03-01   15:10:00  F9 v1.0  B0007   CCAFS LC-40   \n..          ...        ...             ...           ...   \n96   2020-11-05   23:24:23    F9 B5B1062.1  CCAFS SLC-40   \n97   2020-11-16   00:27:00    F9 B5B1061.1    KSC LC-39A   \n98   2020-11-21   17:17:08    F9 B5B1063.1   VAFB SLC-4E   \n99   2020-11-25   02:13:00   F9 B5 B1049.7  CCAFS SLC-40   \n100  2020-12-06   16:17:08   F9 B5 B1058.4    KSC LC-39A   \n\n                                               PAYLOAD  PAYLOAD_MASS__KG_  \\\n0                 Dragon Spacecraft Qualification Unit                  0   \n1    Dragon demo flight C1, two CubeSats, barrel of...                  0   \n2                                Dragon demo flight C2                525   \n3                                         SpaceX CRS-1                500   \n4                                         SpaceX CRS-2                677   \n..                                                 ...                ...   \n96                                 GPS III-04 , Crew-1               4311   \n97                Crew-1, Sentinel-6 Michael Freilich               12500   \n98      Sentinel-6 Michael Freilich, Starlink 15 v1.0                1192   \n99                     Starlink 15 v1.0, SpaceX CRS-21              15600   \n100                                      SpaceX CRS-21               2972   \n\n         ORBIT                      CUSTOMER MISSION_OUTCOME  \\\n0          LEO                        SpaceX         Success   \n1    LEO (ISS)               NASA (COTS) NRO         Success   \n2    LEO (ISS)                   NASA (COTS)         Success   \n3    LEO (ISS)                    NASA (CRS)         Success   \n4    LEO (ISS)                    NASA (CRS)         Success   \n..         ...                           ...             ...   \n96         MEO                          USSF         Success   \n97   LEO (ISS)                    NASA (CCP)         Success   \n98         LEO  NASA / NOAA / ESA / EUMETSAT         Success   \n99         LEO                        SpaceX         Success   \n100  LEO (ISS)                    NASA (CRS)         Success   \n\n        LANDING__OUTCOME  \n0    Failure (parachute)  \n1    Failure (parachute)  \n2             No attempt  \n3             No attempt  \n4             No attempt  \n..                   ...  \n96               Success  \n97               Success  \n98               Success  \n99               Success  \n100              Success  \n\n[101 rows x 10 columns]",
                        "text/html": "<div>\n<style scoped>\n    .dataframe tbody tr th:only-of-type {\n        vertical-align: middle;\n    }\n\n    .dataframe tbody tr th {\n        vertical-align: top;\n    }\n\n    .dataframe thead th {\n        text-align: right;\n    }\n</style>\n<table border=\"1\" class=\"dataframe\">\n  <thead>\n    <tr style=\"text-align: right;\">\n      <th></th>\n      <th>DATE</th>\n      <th>TIME__UTC_</th>\n      <th>BOOSTER_VERSION</th>\n      <th>LAUNCH_SITE</th>\n      <th>PAYLOAD</th>\n      <th>PAYLOAD_MASS__KG_</th>\n      <th>ORBIT</th>\n      <th>CUSTOMER</th>\n      <th>MISSION_OUTCOME</th>\n      <th>LANDING__OUTCOME</th>\n    </tr>\n  </thead>\n  <tbody>\n    <tr>\n      <th>0</th>\n      <td>2010-06-04</td>\n      <td>18:45:00</td>\n      <td>F9 v1.0  B0003</td>\n      <td>CCAFS LC-40</td>\n      <td>Dragon Spacecraft Qualification Unit</td>\n      <td>0</td>\n      <td>LEO</td>\n      <td>SpaceX</td>\n      <td>Success</td>\n      <td>Failure (parachute)</td>\n    </tr>\n    <tr>\n      <th>1</th>\n      <td>2010-12-08</td>\n      <td>15:43:00</td>\n      <td>F9 v1.0  B0004</td>\n      <td>CCAFS LC-40</td>\n      <td>Dragon demo flight C1, two CubeSats, barrel of...</td>\n      <td>0</td>\n      <td>LEO (ISS)</td>\n      <td>NASA (COTS) NRO</td>\n      <td>Success</td>\n      <td>Failure (parachute)</td>\n    </tr>\n    <tr>\n      <th>2</th>\n      <td>2012-05-22</td>\n      <td>07:44:00</td>\n      <td>F9 v1.0  B0005</td>\n      <td>CCAFS LC-40</td>\n      <td>Dragon demo flight C2</td>\n      <td>525</td>\n      <td>LEO (ISS)</td>\n      <td>NASA (COTS)</td>\n      <td>Success</td>\n      <td>No attempt</td>\n    </tr>\n    <tr>\n      <th>3</th>\n      <td>2012-10-08</td>\n      <td>00:35:00</td>\n      <td>F9 v1.0  B0006</td>\n      <td>CCAFS LC-40</td>\n      <td>SpaceX CRS-1</td>\n      <td>500</td>\n      <td>LEO (ISS)</td>\n      <td>NASA (CRS)</td>\n      <td>Success</td>\n      <td>No attempt</td>\n    </tr>\n    <tr>\n      <th>4</th>\n      <td>2013-03-01</td>\n      <td>15:10:00</td>\n      <td>F9 v1.0  B0007</td>\n      <td>CCAFS LC-40</td>\n      <td>SpaceX CRS-2</td>\n      <td>677</td>\n      <td>LEO (ISS)</td>\n      <td>NASA (CRS)</td>\n      <td>Success</td>\n      <td>No attempt</td>\n    </tr>\n    <tr>\n      <th>...</th>\n      <td>...</td>\n      <td>...</td>\n      <td>...</td>\n      <td>...</td>\n      <td>...</td>\n      <td>...</td>\n      <td>...</td>\n      <td>...</td>\n      <td>...</td>\n      <td>...</td>\n    </tr>\n    <tr>\n      <th>96</th>\n      <td>2020-11-05</td>\n      <td>23:24:23</td>\n      <td>F9 B5B1062.1</td>\n      <td>CCAFS SLC-40</td>\n      <td>GPS III-04 , Crew-1</td>\n      <td>4311</td>\n      <td>MEO</td>\n      <td>USSF</td>\n      <td>Success</td>\n      <td>Success</td>\n    </tr>\n    <tr>\n      <th>97</th>\n      <td>2020-11-16</td>\n      <td>00:27:00</td>\n      <td>F9 B5B1061.1</td>\n      <td>KSC LC-39A</td>\n      <td>Crew-1, Sentinel-6 Michael Freilich</td>\n      <td>12500</td>\n      <td>LEO (ISS)</td>\n      <td>NASA (CCP)</td>\n      <td>Success</td>\n      <td>Success</td>\n    </tr>\n    <tr>\n      <th>98</th>\n      <td>2020-11-21</td>\n      <td>17:17:08</td>\n      <td>F9 B5B1063.1</td>\n      <td>VAFB SLC-4E</td>\n      <td>Sentinel-6 Michael Freilich, Starlink 15 v1.0</td>\n      <td>1192</td>\n      <td>LEO</td>\n      <td>NASA / NOAA / ESA / EUMETSAT</td>\n      <td>Success</td>\n      <td>Success</td>\n    </tr>\n    <tr>\n      <th>99</th>\n      <td>2020-11-25</td>\n      <td>02:13:00</td>\n      <td>F9 B5 B1049.7</td>\n      <td>CCAFS SLC-40</td>\n      <td>Starlink 15 v1.0, SpaceX CRS-21</td>\n      <td>15600</td>\n      <td>LEO</td>\n      <td>SpaceX</td>\n      <td>Success</td>\n      <td>Success</td>\n    </tr>\n    <tr>\n      <th>100</th>\n      <td>2020-12-06</td>\n      <td>16:17:08</td>\n      <td>F9 B5 B1058.4</td>\n      <td>KSC LC-39A</td>\n      <td>SpaceX CRS-21</td>\n      <td>2972</td>\n      <td>LEO (ISS)</td>\n      <td>NASA (CRS)</td>\n      <td>Success</td>\n      <td>Success</td>\n    </tr>\n  </tbody>\n</table>\n<p>101 rows \u00d7 10 columns</p>\n</div>"
                    },
                    "metadata": {}
                }
            ]
        },
        {
            "metadata": {},
            "cell_type": "code",
            "source": "conn = get_db_connection()\npconn=ibm_db_dbi.Connection(conn)\nselect_query = 'select distinct LAUNCH_SITE from SPACEXTBL'\ndf=pd.read_sql(select_query,pconn)\nibm_db.close(conn)\ndf",
            "execution_count": 5,
            "outputs": [
                {
                    "output_type": "stream",
                    "text": "Connected!\n",
                    "name": "stdout"
                },
                {
                    "output_type": "execute_result",
                    "execution_count": 5,
                    "data": {
                        "text/plain": "    LAUNCH_SITE\n0   CCAFS LC-40\n1  CCAFS SLC-40\n2    KSC LC-39A\n3   VAFB SLC-4E",
                        "text/html": "<div>\n<style scoped>\n    .dataframe tbody tr th:only-of-type {\n        vertical-align: middle;\n    }\n\n    .dataframe tbody tr th {\n        vertical-align: top;\n    }\n\n    .dataframe thead th {\n        text-align: right;\n    }\n</style>\n<table border=\"1\" class=\"dataframe\">\n  <thead>\n    <tr style=\"text-align: right;\">\n      <th></th>\n      <th>LAUNCH_SITE</th>\n    </tr>\n  </thead>\n  <tbody>\n    <tr>\n      <th>0</th>\n      <td>CCAFS LC-40</td>\n    </tr>\n    <tr>\n      <th>1</th>\n      <td>CCAFS SLC-40</td>\n    </tr>\n    <tr>\n      <th>2</th>\n      <td>KSC LC-39A</td>\n    </tr>\n    <tr>\n      <th>3</th>\n      <td>VAFB SLC-4E</td>\n    </tr>\n  </tbody>\n</table>\n</div>"
                    },
                    "metadata": {}
                }
            ]
        },
        {
            "metadata": {},
            "cell_type": "markdown",
            "source": "### Task 2\n\n##### Display 5 records where launch sites begin with the string 'CCA'\n"
        },
        {
            "metadata": {},
            "cell_type": "code",
            "source": "conn = get_db_connection()\npconn=ibm_db_dbi.Connection(conn)\nselect_query = \"select distinct LAUNCH_SITE from SPACEXTBL where LAUNCH_SITE like 'CCA%'\"\ndf=pd.read_sql(select_query,pconn)\nibm_db.close(conn)\ndf",
            "execution_count": 9,
            "outputs": [
                {
                    "output_type": "stream",
                    "text": "Connected!\n",
                    "name": "stdout"
                },
                {
                    "output_type": "execute_result",
                    "execution_count": 9,
                    "data": {
                        "text/plain": "    LAUNCH_SITE\n0   CCAFS LC-40\n1  CCAFS SLC-40",
                        "text/html": "<div>\n<style scoped>\n    .dataframe tbody tr th:only-of-type {\n        vertical-align: middle;\n    }\n\n    .dataframe tbody tr th {\n        vertical-align: top;\n    }\n\n    .dataframe thead th {\n        text-align: right;\n    }\n</style>\n<table border=\"1\" class=\"dataframe\">\n  <thead>\n    <tr style=\"text-align: right;\">\n      <th></th>\n      <th>LAUNCH_SITE</th>\n    </tr>\n  </thead>\n  <tbody>\n    <tr>\n      <th>0</th>\n      <td>CCAFS LC-40</td>\n    </tr>\n    <tr>\n      <th>1</th>\n      <td>CCAFS SLC-40</td>\n    </tr>\n  </tbody>\n</table>\n</div>"
                    },
                    "metadata": {}
                }
            ]
        },
        {
            "metadata": {},
            "cell_type": "markdown",
            "source": "### Task 3\n\n##### Display the total payload mass carried by boosters launched by NASA (CRS)\n"
        },
        {
            "metadata": {},
            "cell_type": "code",
            "source": "conn = get_db_connection()\npconn=ibm_db_dbi.Connection(conn)\nselect_query = \"select sum(PAYLOAD_MASS__KG_) from SPACEXTBL where CUSTOMER = 'NASA (CRS)'\"\ndf=pd.read_sql(select_query,pconn)\nibm_db.close(conn)\ndf",
            "execution_count": 10,
            "outputs": [
                {
                    "output_type": "stream",
                    "text": "Connected!\n",
                    "name": "stdout"
                },
                {
                    "output_type": "execute_result",
                    "execution_count": 10,
                    "data": {
                        "text/plain": "       1\n0  45596",
                        "text/html": "<div>\n<style scoped>\n    .dataframe tbody tr th:only-of-type {\n        vertical-align: middle;\n    }\n\n    .dataframe tbody tr th {\n        vertical-align: top;\n    }\n\n    .dataframe thead th {\n        text-align: right;\n    }\n</style>\n<table border=\"1\" class=\"dataframe\">\n  <thead>\n    <tr style=\"text-align: right;\">\n      <th></th>\n      <th>1</th>\n    </tr>\n  </thead>\n  <tbody>\n    <tr>\n      <th>0</th>\n      <td>45596</td>\n    </tr>\n  </tbody>\n</table>\n</div>"
                    },
                    "metadata": {}
                }
            ]
        },
        {
            "metadata": {},
            "cell_type": "markdown",
            "source": "### Task 4\n\n##### Display average payload mass carried by booster version F9 v1.1\n"
        },
        {
            "metadata": {},
            "cell_type": "code",
            "source": "conn = get_db_connection()\npconn=ibm_db_dbi.Connection(conn)\nselect_query = \"select avg(PAYLOAD_MASS__KG_) from SPACEXTBL where BOOSTER_VERSION like 'F9 v1.1%'\"\ndf=pd.read_sql(select_query,pconn)\nibm_db.close(conn)\ndf",
            "execution_count": 11,
            "outputs": [
                {
                    "output_type": "stream",
                    "text": "Connected!\n",
                    "name": "stdout"
                },
                {
                    "output_type": "execute_result",
                    "execution_count": 11,
                    "data": {
                        "text/plain": "      1\n0  2534",
                        "text/html": "<div>\n<style scoped>\n    .dataframe tbody tr th:only-of-type {\n        vertical-align: middle;\n    }\n\n    .dataframe tbody tr th {\n        vertical-align: top;\n    }\n\n    .dataframe thead th {\n        text-align: right;\n    }\n</style>\n<table border=\"1\" class=\"dataframe\">\n  <thead>\n    <tr style=\"text-align: right;\">\n      <th></th>\n      <th>1</th>\n    </tr>\n  </thead>\n  <tbody>\n    <tr>\n      <th>0</th>\n      <td>2534</td>\n    </tr>\n  </tbody>\n</table>\n</div>"
                    },
                    "metadata": {}
                }
            ]
        },
        {
            "metadata": {},
            "cell_type": "markdown",
            "source": "### Task 5\n\n##### List the date when the first successful landing outcome in ground pad was acheived.\n\n*Hint:Use min function*\n"
        },
        {
            "metadata": {},
            "cell_type": "code",
            "source": "conn = get_db_connection()\npconn=ibm_db_dbi.Connection(conn)\nselect_query = \"select date from SPACEXTBL where LANDING__OUTCOME =  'Success (ground pad)' \\\n                order by date  limit 1\"\ndf=pd.read_sql(select_query,pconn)\nibm_db.close(conn)\ndf",
            "execution_count": 16,
            "outputs": [
                {
                    "output_type": "stream",
                    "text": "Connected!\n",
                    "name": "stdout"
                },
                {
                    "output_type": "execute_result",
                    "execution_count": 16,
                    "data": {
                        "text/plain": "         DATE\n0  2015-12-22",
                        "text/html": "<div>\n<style scoped>\n    .dataframe tbody tr th:only-of-type {\n        vertical-align: middle;\n    }\n\n    .dataframe tbody tr th {\n        vertical-align: top;\n    }\n\n    .dataframe thead th {\n        text-align: right;\n    }\n</style>\n<table border=\"1\" class=\"dataframe\">\n  <thead>\n    <tr style=\"text-align: right;\">\n      <th></th>\n      <th>DATE</th>\n    </tr>\n  </thead>\n  <tbody>\n    <tr>\n      <th>0</th>\n      <td>2015-12-22</td>\n    </tr>\n  </tbody>\n</table>\n</div>"
                    },
                    "metadata": {}
                }
            ]
        },
        {
            "metadata": {},
            "cell_type": "markdown",
            "source": "### Task 6\n\n##### List the names of the boosters which have success in drone ship and have payload mass greater than 4000 but less than 6000\n"
        },
        {
            "metadata": {},
            "cell_type": "code",
            "source": "\nconn = get_db_connection()\npconn=ibm_db_dbi.Connection(conn)\nselect_query = \"select BOOSTER_VERSION from SPACEXTBL where PAYLOAD_MASS__KG_ > 4000 and PAYLOAD_MASS__KG_ <= 6000 \\\n               and LANDING__OUTCOME = 'Success (drone ship)'\"\ndf=pd.read_sql(select_query,pconn)\nibm_db.close(conn)\ndf",
            "execution_count": 21,
            "outputs": [
                {
                    "output_type": "stream",
                    "text": "Connected!\n",
                    "name": "stdout"
                },
                {
                    "output_type": "execute_result",
                    "execution_count": 21,
                    "data": {
                        "text/plain": "  BOOSTER_VERSION\n0     F9 FT B1022\n1     F9 FT B1026\n2  F9 FT  B1021.2\n3  F9 FT  B1031.2",
                        "text/html": "<div>\n<style scoped>\n    .dataframe tbody tr th:only-of-type {\n        vertical-align: middle;\n    }\n\n    .dataframe tbody tr th {\n        vertical-align: top;\n    }\n\n    .dataframe thead th {\n        text-align: right;\n    }\n</style>\n<table border=\"1\" class=\"dataframe\">\n  <thead>\n    <tr style=\"text-align: right;\">\n      <th></th>\n      <th>BOOSTER_VERSION</th>\n    </tr>\n  </thead>\n  <tbody>\n    <tr>\n      <th>0</th>\n      <td>F9 FT B1022</td>\n    </tr>\n    <tr>\n      <th>1</th>\n      <td>F9 FT B1026</td>\n    </tr>\n    <tr>\n      <th>2</th>\n      <td>F9 FT  B1021.2</td>\n    </tr>\n    <tr>\n      <th>3</th>\n      <td>F9 FT  B1031.2</td>\n    </tr>\n  </tbody>\n</table>\n</div>"
                    },
                    "metadata": {}
                }
            ]
        },
        {
            "metadata": {},
            "cell_type": "markdown",
            "source": "### Task 7\n\n##### List the total number of successful and failure mission outcomes\n"
        },
        {
            "metadata": {},
            "cell_type": "code",
            "source": "conn = get_db_connection()\npconn=ibm_db_dbi.Connection(conn)\nselect_query = \"select MISSION_OUTCOME, count(MISSION_OUTCOME) from SPACEXTBL group by MISSION_OUTCOME \"\ndf=pd.read_sql(select_query,pconn)\nibm_db.close(conn)\ndf",
            "execution_count": 22,
            "outputs": [
                {
                    "output_type": "stream",
                    "text": "Connected!\n",
                    "name": "stdout"
                },
                {
                    "output_type": "execute_result",
                    "execution_count": 22,
                    "data": {
                        "text/plain": "                    MISSION_OUTCOME   2\n0               Failure (in flight)   1\n1                           Success  99\n2  Success (payload status unclear)   1",
                        "text/html": "<div>\n<style scoped>\n    .dataframe tbody tr th:only-of-type {\n        vertical-align: middle;\n    }\n\n    .dataframe tbody tr th {\n        vertical-align: top;\n    }\n\n    .dataframe thead th {\n        text-align: right;\n    }\n</style>\n<table border=\"1\" class=\"dataframe\">\n  <thead>\n    <tr style=\"text-align: right;\">\n      <th></th>\n      <th>MISSION_OUTCOME</th>\n      <th>2</th>\n    </tr>\n  </thead>\n  <tbody>\n    <tr>\n      <th>0</th>\n      <td>Failure (in flight)</td>\n      <td>1</td>\n    </tr>\n    <tr>\n      <th>1</th>\n      <td>Success</td>\n      <td>99</td>\n    </tr>\n    <tr>\n      <th>2</th>\n      <td>Success (payload status unclear)</td>\n      <td>1</td>\n    </tr>\n  </tbody>\n</table>\n</div>"
                    },
                    "metadata": {}
                }
            ]
        },
        {
            "metadata": {},
            "cell_type": "markdown",
            "source": "### Task 8\n\n##### List the   names of the booster_versions which have carried the maximum payload mass. Use a subquery\n"
        },
        {
            "metadata": {},
            "cell_type": "code",
            "source": "conn = get_db_connection()\npconn=ibm_db_dbi.Connection(conn)\nselect_query = \"select BOOSTER_VERSION from SPACEXTBL where PAYLOAD_MASS__KG_=\\\n                (select max(PAYLOAD_MASS__KG_) from SPACEXTBL)\"\ndf=pd.read_sql(select_query,pconn)\nibm_db.close(conn)\ndf",
            "execution_count": 24,
            "outputs": [
                {
                    "output_type": "stream",
                    "text": "Connected!\n",
                    "name": "stdout"
                },
                {
                    "output_type": "execute_result",
                    "execution_count": 24,
                    "data": {
                        "text/plain": "          DATE TIME__UTC_ BOOSTER_VERSION   LAUNCH_SITE  \\\n0   2019-11-11   14:56:00   F9 B5 B1048.4  CCAFS SLC-40   \n1   2020-01-07   02:33:00   F9 B5 B1049.4  CCAFS SLC-40   \n2   2020-01-29   14:07:00   F9 B5 B1051.3  CCAFS SLC-40   \n3   2020-02-17   15:05:00   F9 B5 B1056.4  CCAFS SLC-40   \n4   2020-03-18   12:16:00   F9 B5 B1048.5    KSC LC-39A   \n5   2020-04-22   19:30:00   F9 B5 B1051.4    KSC LC-39A   \n6   2020-06-04   01:25:00   F9 B5 B1049.5  CCAFS SLC-40   \n7   2020-09-03   12:46:14   F9 B5 B1060.2    KSC LC-39A   \n8   2020-10-06   11:29:34   F9 B5 B1058.3    KSC LC-39A   \n9   2020-10-18   12:25:57   F9 B5 B1051.6    KSC LC-39A   \n10  2020-10-24   15:31:34   F9 B5 B1060.3  CCAFS SLC-40   \n11  2020-11-25   02:13:00   F9 B5 B1049.7  CCAFS SLC-40   \n\n                                              PAYLOAD  PAYLOAD_MASS__KG_  \\\n0                     Starlink 1 v1.0, SpaceX CRS-19               15600   \n1   Starlink 2 v1.0, Crew Dragon in-flight abort t...              15600   \n2                   Starlink 3 v1.0, Starlink 4 v1.0               15600   \n3                      Starlink 4 v1.0, SpaceX CRS-20              15600   \n4                   Starlink 5 v1.0, Starlink 6 v1.0               15600   \n5                Starlink 6 v1.0, Crew Dragon Demo-2               15600   \n6                    Starlink 7 v1.0, Starlink 8 v1.0              15600   \n7                 Starlink 11 v1.0, Starlink 12 v1.0               15600   \n8                 Starlink 12 v1.0, Starlink 13 v1.0               15600   \n9                 Starlink 13 v1.0, Starlink 14 v1.0               15600   \n10                     Starlink 14 v1.0, GPS III-04                15600   \n11                    Starlink 15 v1.0, SpaceX CRS-21              15600   \n\n   ORBIT             CUSTOMER MISSION_OUTCOME LANDING__OUTCOME  \n0    LEO               SpaceX         Success          Success  \n1    LEO               SpaceX         Success          Success  \n2    LEO               SpaceX         Success          Success  \n3    LEO               SpaceX         Success          Failure  \n4    LEO               SpaceX         Success          Failure  \n5    LEO               SpaceX         Success          Success  \n6    LEO  SpaceX, Planet Labs         Success          Success  \n7    LEO               SpaceX         Success          Success  \n8    LEO               SpaceX         Success          Success  \n9    LEO               SpaceX         Success          Success  \n10   LEO               SpaceX         Success          Success  \n11   LEO               SpaceX         Success          Success  ",
                        "text/html": "<div>\n<style scoped>\n    .dataframe tbody tr th:only-of-type {\n        vertical-align: middle;\n    }\n\n    .dataframe tbody tr th {\n        vertical-align: top;\n    }\n\n    .dataframe thead th {\n        text-align: right;\n    }\n</style>\n<table border=\"1\" class=\"dataframe\">\n  <thead>\n    <tr style=\"text-align: right;\">\n      <th></th>\n      <th>DATE</th>\n      <th>TIME__UTC_</th>\n      <th>BOOSTER_VERSION</th>\n      <th>LAUNCH_SITE</th>\n      <th>PAYLOAD</th>\n      <th>PAYLOAD_MASS__KG_</th>\n      <th>ORBIT</th>\n      <th>CUSTOMER</th>\n      <th>MISSION_OUTCOME</th>\n      <th>LANDING__OUTCOME</th>\n    </tr>\n  </thead>\n  <tbody>\n    <tr>\n      <th>0</th>\n      <td>2019-11-11</td>\n      <td>14:56:00</td>\n      <td>F9 B5 B1048.4</td>\n      <td>CCAFS SLC-40</td>\n      <td>Starlink 1 v1.0, SpaceX CRS-19</td>\n      <td>15600</td>\n      <td>LEO</td>\n      <td>SpaceX</td>\n      <td>Success</td>\n      <td>Success</td>\n    </tr>\n    <tr>\n      <th>1</th>\n      <td>2020-01-07</td>\n      <td>02:33:00</td>\n      <td>F9 B5 B1049.4</td>\n      <td>CCAFS SLC-40</td>\n      <td>Starlink 2 v1.0, Crew Dragon in-flight abort t...</td>\n      <td>15600</td>\n      <td>LEO</td>\n      <td>SpaceX</td>\n      <td>Success</td>\n      <td>Success</td>\n    </tr>\n    <tr>\n      <th>2</th>\n      <td>2020-01-29</td>\n      <td>14:07:00</td>\n      <td>F9 B5 B1051.3</td>\n      <td>CCAFS SLC-40</td>\n      <td>Starlink 3 v1.0, Starlink 4 v1.0</td>\n      <td>15600</td>\n      <td>LEO</td>\n      <td>SpaceX</td>\n      <td>Success</td>\n      <td>Success</td>\n    </tr>\n    <tr>\n      <th>3</th>\n      <td>2020-02-17</td>\n      <td>15:05:00</td>\n      <td>F9 B5 B1056.4</td>\n      <td>CCAFS SLC-40</td>\n      <td>Starlink 4 v1.0, SpaceX CRS-20</td>\n      <td>15600</td>\n      <td>LEO</td>\n      <td>SpaceX</td>\n      <td>Success</td>\n      <td>Failure</td>\n    </tr>\n    <tr>\n      <th>4</th>\n      <td>2020-03-18</td>\n      <td>12:16:00</td>\n      <td>F9 B5 B1048.5</td>\n      <td>KSC LC-39A</td>\n      <td>Starlink 5 v1.0, Starlink 6 v1.0</td>\n      <td>15600</td>\n      <td>LEO</td>\n      <td>SpaceX</td>\n      <td>Success</td>\n      <td>Failure</td>\n    </tr>\n    <tr>\n      <th>5</th>\n      <td>2020-04-22</td>\n      <td>19:30:00</td>\n      <td>F9 B5 B1051.4</td>\n      <td>KSC LC-39A</td>\n      <td>Starlink 6 v1.0, Crew Dragon Demo-2</td>\n      <td>15600</td>\n      <td>LEO</td>\n      <td>SpaceX</td>\n      <td>Success</td>\n      <td>Success</td>\n    </tr>\n    <tr>\n      <th>6</th>\n      <td>2020-06-04</td>\n      <td>01:25:00</td>\n      <td>F9 B5 B1049.5</td>\n      <td>CCAFS SLC-40</td>\n      <td>Starlink 7 v1.0, Starlink 8 v1.0</td>\n      <td>15600</td>\n      <td>LEO</td>\n      <td>SpaceX, Planet Labs</td>\n      <td>Success</td>\n      <td>Success</td>\n    </tr>\n    <tr>\n      <th>7</th>\n      <td>2020-09-03</td>\n      <td>12:46:14</td>\n      <td>F9 B5 B1060.2</td>\n      <td>KSC LC-39A</td>\n      <td>Starlink 11 v1.0, Starlink 12 v1.0</td>\n      <td>15600</td>\n      <td>LEO</td>\n      <td>SpaceX</td>\n      <td>Success</td>\n      <td>Success</td>\n    </tr>\n    <tr>\n      <th>8</th>\n      <td>2020-10-06</td>\n      <td>11:29:34</td>\n      <td>F9 B5 B1058.3</td>\n      <td>KSC LC-39A</td>\n      <td>Starlink 12 v1.0, Starlink 13 v1.0</td>\n      <td>15600</td>\n      <td>LEO</td>\n      <td>SpaceX</td>\n      <td>Success</td>\n      <td>Success</td>\n    </tr>\n    <tr>\n      <th>9</th>\n      <td>2020-10-18</td>\n      <td>12:25:57</td>\n      <td>F9 B5 B1051.6</td>\n      <td>KSC LC-39A</td>\n      <td>Starlink 13 v1.0, Starlink 14 v1.0</td>\n      <td>15600</td>\n      <td>LEO</td>\n      <td>SpaceX</td>\n      <td>Success</td>\n      <td>Success</td>\n    </tr>\n    <tr>\n      <th>10</th>\n      <td>2020-10-24</td>\n      <td>15:31:34</td>\n      <td>F9 B5 B1060.3</td>\n      <td>CCAFS SLC-40</td>\n      <td>Starlink 14 v1.0, GPS III-04</td>\n      <td>15600</td>\n      <td>LEO</td>\n      <td>SpaceX</td>\n      <td>Success</td>\n      <td>Success</td>\n    </tr>\n    <tr>\n      <th>11</th>\n      <td>2020-11-25</td>\n      <td>02:13:00</td>\n      <td>F9 B5 B1049.7</td>\n      <td>CCAFS SLC-40</td>\n      <td>Starlink 15 v1.0, SpaceX CRS-21</td>\n      <td>15600</td>\n      <td>LEO</td>\n      <td>SpaceX</td>\n      <td>Success</td>\n      <td>Success</td>\n    </tr>\n  </tbody>\n</table>\n</div>"
                    },
                    "metadata": {}
                }
            ]
        },
        {
            "metadata": {},
            "cell_type": "markdown",
            "source": "### Task 9\n\n##### List the failed landing_outcomes in drone ship, their booster versions, and launch site names for in year 2015\n"
        },
        {
            "metadata": {},
            "cell_type": "code",
            "source": "conn = get_db_connection()\npconn=ibm_db_dbi.Connection(conn)\nselect_query = \"select date, BOOSTER_VERSION, LAUNCH_SITE from SPACEXTBL where LANDING__OUTCOME = 'Failure (drone ship)'\\\n                and year(date) = 2015\"\ndf=pd.read_sql(select_query,pconn)\nibm_db.close(conn)\ndf",
            "execution_count": 28,
            "outputs": [
                {
                    "output_type": "stream",
                    "text": "Connected!\n",
                    "name": "stdout"
                },
                {
                    "output_type": "execute_result",
                    "execution_count": 28,
                    "data": {
                        "text/plain": "         DATE BOOSTER_VERSION  LAUNCH_SITE\n0  2015-01-10   F9 v1.1 B1012  CCAFS LC-40\n1  2015-04-14   F9 v1.1 B1015  CCAFS LC-40",
                        "text/html": "<div>\n<style scoped>\n    .dataframe tbody tr th:only-of-type {\n        vertical-align: middle;\n    }\n\n    .dataframe tbody tr th {\n        vertical-align: top;\n    }\n\n    .dataframe thead th {\n        text-align: right;\n    }\n</style>\n<table border=\"1\" class=\"dataframe\">\n  <thead>\n    <tr style=\"text-align: right;\">\n      <th></th>\n      <th>DATE</th>\n      <th>BOOSTER_VERSION</th>\n      <th>LAUNCH_SITE</th>\n    </tr>\n  </thead>\n  <tbody>\n    <tr>\n      <th>0</th>\n      <td>2015-01-10</td>\n      <td>F9 v1.1 B1012</td>\n      <td>CCAFS LC-40</td>\n    </tr>\n    <tr>\n      <th>1</th>\n      <td>2015-04-14</td>\n      <td>F9 v1.1 B1015</td>\n      <td>CCAFS LC-40</td>\n    </tr>\n  </tbody>\n</table>\n</div>"
                    },
                    "metadata": {}
                }
            ]
        },
        {
            "metadata": {},
            "cell_type": "markdown",
            "source": "### Task 10\n\n##### Rank the count of landing outcomes (such as Failure (drone ship) or Success (ground pad)) between the date 2010-06-04 and 2017-03-20, in descending order\n"
        },
        {
            "metadata": {},
            "cell_type": "code",
            "source": "conn = get_db_connection()\npconn=ibm_db_dbi.Connection(conn)\nselect_query = \"select * from(select LANDING__OUTCOME, count(LANDING__OUTCOME) cnt from SPACEXTBL where LANDING__OUTCOME in ('Failure (drone ship)','Success (ground pad)')\\\n                and date between  '2010-06-04' and '2017-03-20'\\\n                 group by LANDING__OUTCOME) order by cnt desc\"\ndf=pd.read_sql(select_query,pconn)\nibm_db.close(conn)\ndf",
            "execution_count": 31,
            "outputs": [
                {
                    "output_type": "stream",
                    "text": "Connected!\n",
                    "name": "stdout"
                },
                {
                    "output_type": "execute_result",
                    "execution_count": 31,
                    "data": {
                        "text/plain": "       LANDING__OUTCOME  CNT\n0  Failure (drone ship)    5\n1  Success (ground pad)    3",
                        "text/html": "<div>\n<style scoped>\n    .dataframe tbody tr th:only-of-type {\n        vertical-align: middle;\n    }\n\n    .dataframe tbody tr th {\n        vertical-align: top;\n    }\n\n    .dataframe thead th {\n        text-align: right;\n    }\n</style>\n<table border=\"1\" class=\"dataframe\">\n  <thead>\n    <tr style=\"text-align: right;\">\n      <th></th>\n      <th>LANDING__OUTCOME</th>\n      <th>CNT</th>\n    </tr>\n  </thead>\n  <tbody>\n    <tr>\n      <th>0</th>\n      <td>Failure (drone ship)</td>\n      <td>5</td>\n    </tr>\n    <tr>\n      <th>1</th>\n      <td>Success (ground pad)</td>\n      <td>3</td>\n    </tr>\n  </tbody>\n</table>\n</div>"
                    },
                    "metadata": {}
                }
            ]
        },
        {
            "metadata": {},
            "cell_type": "markdown",
            "source": "### Reference Links\n\n*   <a href =\"https://cf-courses-data.s3.us.cloud-object-storage.appdomain.cloud/IBMDeveloperSkillsNetwork-DB0201EN-SkillsNetwork/labs/Labs_Coursera_V5/labs/Lab%20-%20String%20Patterns%20-%20Sorting%20-%20Grouping/instructional-labs.md.html?utm_medium=Exinfluencer&utm_source=Exinfluencer&utm_content=000026UJ&utm_term=10006555&utm_id=NA-SkillsNetwork-Channel-SkillsNetworkCoursesIBMDS0321ENSkillsNetwork26802033-2021-01-01&origin=www.coursera.org\">Hands-on Lab : String Patterns, Sorting and Grouping</a>\n\n*   <a  href=\"https://cf-courses-data.s3.us.cloud-object-storage.appdomain.cloud/IBMDeveloperSkillsNetwork-DB0201EN-SkillsNetwork/labs/Labs_Coursera_V5/labs/Lab%20-%20Built-in%20functions%20/Hands-on_Lab__Built-in_Functions.md.html?utm_medium=Exinfluencer&utm_source=Exinfluencer&utm_content=000026UJ&utm_term=10006555&utm_id=NA-SkillsNetwork-Channel-SkillsNetworkCoursesIBMDS0321ENSkillsNetwork26802033-2021-01-01&origin=www.coursera.org\">Hands-on Lab: Built-in functions</a>\n\n*   <a  href=\"https://cf-courses-data.s3.us.cloud-object-storage.appdomain.cloud/IBMDeveloperSkillsNetwork-DB0201EN-SkillsNetwork/labs/Labs_Coursera_V5/labs/Lab%20-%20Sub-queries%20and%20Nested%20SELECTs%20/instructional-labs.md.html?utm_medium=Exinfluencer&utm_source=Exinfluencer&utm_content=000026UJ&utm_term=10006555&utm_id=NA-SkillsNetwork-Channel-SkillsNetworkCoursesIBMDS0321ENSkillsNetwork26802033-2021-01-01&origin=www.coursera.org\">Hands-on Lab : Sub-queries and Nested SELECT Statements</a>\n\n*   <a href=\"https://cf-courses-data.s3.us.cloud-object-storage.appdomain.cloud/IBMDeveloperSkillsNetwork-DB0201EN-SkillsNetwork/labs/Module%205/DB0201EN-Week3-1-3-SQLmagic.ipynb?utm_medium=Exinfluencer&utm_source=Exinfluencer&utm_content=000026UJ&utm_term=10006555&utm_id=NA-SkillsNetwork-Channel-SkillsNetworkCoursesIBMDS0321ENSkillsNetwork26802033-2021-01-01\">Hands-on Tutorial: Accessing Databases with SQL magic</a>\n\n*   <a href= \"https://cf-courses-data.s3.us.cloud-object-storage.appdomain.cloud/IBMDeveloperSkillsNetwork-DB0201EN-SkillsNetwork/labs/Module%205/DB0201EN-Week3-1-4-Analyzing.ipynb?utm_medium=Exinfluencer&utm_source=Exinfluencer&utm_content=000026UJ&utm_term=10006555&utm_id=NA-SkillsNetwork-Channel-SkillsNetworkCoursesIBMDS0321ENSkillsNetwork26802033-2021-01-01\">Hands-on Lab: Analyzing a real World Data Set</a>\n"
        },
        {
            "metadata": {},
            "cell_type": "markdown",
            "source": "## Author(s)\n\n<h4> Lakshmi Holla </h4>\n"
        },
        {
            "metadata": {},
            "cell_type": "markdown",
            "source": "## Other Contributors\n\n<h4> Rav Ahuja </h4>\n"
        },
        {
            "metadata": {},
            "cell_type": "markdown",
            "source": "## Change log\n\n| Date       | Version | Changed by    | Change Description        |\n| ---------- | ------- | ------------- | ------------------------- |\n| 2021-10-12 | 0.4     | Lakshmi Holla | Changed markdown          |\n| 2021-08-24 | 0.3     | Lakshmi Holla | Added library update      |\n| 2021-07-09 | 0.2     | Lakshmi Holla | Changes made in magic sql |\n| 2021-05-20 | 0.1     | Lakshmi Holla | Created Initial Version   |\n"
        },
        {
            "metadata": {},
            "cell_type": "markdown",
            "source": "## <h3 align=\"center\"> \u00a9 IBM Corporation 2021. All rights reserved. <h3/>\n"
        }
    ],
    "metadata": {
        "kernelspec": {
            "name": "python3",
            "display_name": "Python 3.8",
            "language": "python"
        },
        "language_info": {
            "name": "python",
            "version": "3.8.12",
            "mimetype": "text/x-python",
            "codemirror_mode": {
                "name": "ipython",
                "version": 3
            },
            "pygments_lexer": "ipython3",
            "nbconvert_exporter": "python",
            "file_extension": ".py"
        }
    },
    "nbformat": 4,
    "nbformat_minor": 4
}